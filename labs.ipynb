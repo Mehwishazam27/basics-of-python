{
 "cells": [
  {
   "cell_type": "code",
   "execution_count": 4,
   "id": "60457811-0ae6-474a-9b0c-951110a8eb9c",
   "metadata": {},
   "outputs": [
    {
     "name": "stdout",
     "output_type": "stream",
     "text": [
      "0\n",
      "1\n",
      "2\n",
      "3\n",
      "4\n",
      "5\n",
      "6\n",
      "7\n",
      "8\n",
      "9\n",
      "10\n",
      "11\n",
      "12\n",
      "13\n",
      "14\n",
      "15\n",
      "16\n",
      "17\n",
      "18\n",
      "19\n",
      "20\n",
      "21\n",
      "22\n",
      "23\n",
      "24\n",
      "25\n",
      "26\n",
      "27\n",
      "28\n",
      "29\n",
      "30\n",
      "31\n",
      "32\n",
      "33\n",
      "34\n",
      "35\n",
      "36\n",
      "37\n",
      "38\n",
      "39\n",
      "40\n",
      "41\n",
      "42\n",
      "43\n",
      "44\n",
      "45\n",
      "46\n",
      "47\n",
      "48\n",
      "49\n",
      "50\n",
      "51\n",
      "52\n",
      "53\n",
      "54\n",
      "55\n",
      "56\n",
      "57\n",
      "58\n",
      "59\n",
      "60\n",
      "61\n",
      "62\n",
      "63\n",
      "64\n",
      "65\n",
      "66\n",
      "67\n",
      "68\n",
      "69\n",
      "70\n",
      "71\n",
      "72\n",
      "73\n",
      "74\n",
      "75\n",
      "76\n",
      "77\n",
      "78\n",
      "79\n",
      "80\n",
      "81\n",
      "82\n",
      "83\n",
      "84\n",
      "85\n",
      "86\n",
      "87\n",
      "88\n",
      "89\n",
      "90\n",
      "91\n",
      "92\n",
      "93\n",
      "94\n",
      "95\n",
      "96\n",
      "97\n",
      "98\n",
      "99\n"
     ]
    }
   ],
   "source": [
    "for i in range(100):\n",
    "   if i==50:\n",
    "       print(i)\n",
    "       continue\n",
    "   else:\n",
    "       print(i)"
   ]
  },
  {
   "cell_type": "code",
   "execution_count": 6,
   "id": "f0aff4c7-37e3-469a-a7a3-fe06ce8acd19",
   "metadata": {},
   "outputs": [
    {
     "name": "stdout",
     "output_type": "stream",
     "text": [
      "0\n",
      "1\n",
      "2\n",
      "3\n",
      "4\n",
      "5\n",
      "6\n",
      "7\n",
      "8\n",
      "9\n",
      "10\n",
      "11\n",
      "12\n",
      "13\n",
      "14\n",
      "15\n",
      "16\n",
      "17\n",
      "18\n",
      "19\n",
      "20\n",
      "21\n",
      "22\n",
      "23\n",
      "24\n",
      "25\n",
      "26\n",
      "27\n",
      "28\n",
      "29\n",
      "30\n",
      "31\n",
      "32\n",
      "33\n",
      "34\n",
      "35\n",
      "36\n",
      "37\n",
      "38\n",
      "39\n",
      "40\n",
      "41\n",
      "42\n",
      "43\n",
      "44\n",
      "45\n",
      "46\n",
      "47\n",
      "48\n",
      "49\n",
      "50\n"
     ]
    }
   ],
   "source": [
    "for i in range(100):\n",
    "   if i==50:\n",
    "       print(i)\n",
    "       break\n",
    "   else:\n",
    "       print(i)"
   ]
  },
  {
   "cell_type": "markdown",
   "id": "4774a727-baed-4bed-ad77-c1e33af2c023",
   "metadata": {},
   "source": [
    "<!-- 7th August Labs -->\n"
   ]
  },
  {
   "cell_type": "code",
   "execution_count": null,
   "id": "5aff4214-47df-4861-96bb-5df971cb6221",
   "metadata": {},
   "outputs": [],
   "source": [
    "# 7th AUgust Labs\n",
    "\n"
   ]
  },
  {
   "cell_type": "code",
   "execution_count": 15,
   "id": "dcdebf78-3aad-435a-b299-6d19f5636975",
   "metadata": {},
   "outputs": [
    {
     "name": "stdout",
     "output_type": "stream",
     "text": [
      "today's Topic is(top)\n",
      "Today we learnt about python\n"
     ]
    }
   ],
   "source": [
    "def display_message(top,set):\n",
    "    print(f\"today's Topic is(top)\")\n",
    "    print(f\"{set}\")\n",
    "    \n",
    "display_message(\"function\",\"Today we learnt about python\")\n",
    "    "
   ]
  },
  {
   "cell_type": "code",
   "execution_count": 41,
   "id": "396e0161-9be0-497e-aeda-978117c1f46d",
   "metadata": {},
   "outputs": [
    {
     "name": "stdout",
     "output_type": "stream",
     "text": [
      "my favourite book is (Think and Grow Rich) Written By Napoleon Hill\n"
     ]
    }
   ],
   "source": [
    "def fav_book(fvrt):\n",
    "    print(f\"my favourite book is {fvrt} Written By Napoleon Hill\")\n",
    "fav_book(\"(Think and Grow Rich)\")\n"
   ]
  },
  {
   "cell_type": "code",
   "execution_count": null,
   "id": "9a0cfc15-7a58-4e6b-800c-7ed768f694b8",
   "metadata": {},
   "outputs": [],
   "source": []
  },
  {
   "cell_type": "code",
   "execution_count": 37,
   "id": "ee36b800-3759-43c7-8a4f-1e33c33ad160",
   "metadata": {},
   "outputs": [
    {
     "name": "stdout",
     "output_type": "stream",
     "text": [
      "i have a farari of 2001 model\n"
     ]
    }
   ],
   "source": [
    "def describe_cars(name , model):\n",
    "    print(f\"i have a {name} of {model} model\")\n",
    "    print(f\" {model} model\")\n",
    "describe_cars(\"farari\", \"2001\")"
   ]
  },
  {
   "cell_type": "code",
   "execution_count": 82,
   "id": "d644fe37-77f4-43b1-8d90-71dc7f009433",
   "metadata": {},
   "outputs": [
    {
     "name": "stdin",
     "output_type": "stream",
     "text": [
      "size of your shirt: 44\n"
     ]
    },
    {
     "name": "stdout",
     "output_type": "stream",
     "text": [
      " your shirt size is extra large and your size:44   \n",
      "\n"
     ]
    },
    {
     "data": {
      "text/plain": [
       "44"
      ]
     },
     "execution_count": 82,
     "metadata": {},
     "output_type": "execute_result"
    }
   ],
   "source": [
    "x = int(input(\"size of your shirt:\"))\n",
    "def make_shrt(size):\n",
    "    if size <=12:\n",
    "        print(f\"your shirt size is small and your size {size} \")\n",
    "    elif size <=15:\n",
    "        print(f\"your shirt size is medium and your size{size} \")\n",
    "    elif size <=20:\n",
    "        print(f\"your shirt size is large and your size{size} \")\n",
    "    else:\n",
    "        print(f\" your shirt size is extra large and your size:{size}   \\n\") \n",
    "   \n",
    "  \n",
    "    return size\n",
    "make_shrt(x)\n"
   ]
  },
  {
   "cell_type": "code",
   "execution_count": 3,
   "id": "e5b2041e-604f-4471-8ea4-88e12f9c1440",
   "metadata": {},
   "outputs": [],
   "source": [
    "# 8 August Labs\n"
   ]
  },
  {
   "cell_type": "code",
   "execution_count": 7,
   "id": "771cfb30-21ee-4964-b4fc-3ccc63154b93",
   "metadata": {},
   "outputs": [
    {
     "name": "stdout",
     "output_type": "stream",
     "text": [
      "0.0015926529164868282\n",
      "3.141592653589793\n"
     ]
    }
   ],
   "source": [
    " # import only sin and pi from maths module:\n",
    "from math import sin,pi\n",
    "print (math.sin(3.14))\n",
    "print(pi) "
   ]
  },
  {
   "cell_type": "code",
   "execution_count": 15,
   "id": "329743a2-03dc-4f7a-b20f-fb8af37e9f46",
   "metadata": {},
   "outputs": [
    {
     "name": "stdout",
     "output_type": "stream",
     "text": [
      "0.8939966636005579\n",
      "<built-in function sin>\n"
     ]
    }
   ],
   "source": [
    "from math import sin,pi\n",
    "print(math.sin(90))\n",
    "print(sin)"
   ]
  },
  {
   "cell_type": "code",
   "execution_count": 3,
   "id": "d5d310f9-0234-4a7c-bdaa-7e3dc60962c7",
   "metadata": {},
   "outputs": [
    {
     "data": {
      "text/plain": [
       "4"
      ]
     },
     "execution_count": 3,
     "metadata": {},
     "output_type": "execute_result"
    }
   ],
   "source": [
    "import math\n",
    "math.ceil(3.14)"
   ]
  },
  {
   "cell_type": "code",
   "execution_count": 25,
   "id": "3730dcba-d9c7-4e2b-99df-46b84c9495e6",
   "metadata": {},
   "outputs": [
    {
     "data": {
      "text/plain": [
       "18"
      ]
     },
     "execution_count": 25,
     "metadata": {},
     "output_type": "execute_result"
    }
   ],
   "source": [
    "import random\n",
    "random.randint(1,20)\n"
   ]
  },
  {
   "cell_type": "code",
   "execution_count": 27,
   "id": "24d3c2c8-3313-482b-a001-1dbb006c7033",
   "metadata": {},
   "outputs": [
    {
     "data": {
      "text/plain": [
       "4.869995347694625"
      ]
     },
     "execution_count": 27,
     "metadata": {},
     "output_type": "execute_result"
    }
   ],
   "source": [
    "import random\n",
    "random.uniform(1,20)"
   ]
  },
  {
   "cell_type": "code",
   "execution_count": 31,
   "id": "9ecf89ab-3b17-422e-b146-8cb3ef28e4c7",
   "metadata": {},
   "outputs": [
    {
     "data": {
      "text/plain": [
       "3"
      ]
     },
     "execution_count": 31,
     "metadata": {},
     "output_type": "execute_result"
    }
   ],
   "source": [
    "random.choice([1,\"up\",\"down\",2,3,5,6])"
   ]
  },
  {
   "cell_type": "code",
   "execution_count": 34,
   "id": "03bc0192-0c3e-4c42-8757-ac5061f7b80a",
   "metadata": {},
   "outputs": [
    {
     "data": {
      "text/plain": [
       "64"
      ]
     },
     "execution_count": 34,
     "metadata": {},
     "output_type": "execute_result"
    }
   ],
   "source": [
    "import math\n",
    "8**2"
   ]
  },
  {
   "cell_type": "code",
   "execution_count": 49,
   "id": "2590fa14-aac1-4a3d-8b97-a833f312a4f4",
   "metadata": {},
   "outputs": [
    {
     "data": {
      "text/plain": [
       "64.0"
      ]
     },
     "execution_count": 49,
     "metadata": {},
     "output_type": "execute_result"
    }
   ],
   "source": [
    "math.pow(4,3)     "
   ]
  },
  {
   "cell_type": "code",
   "execution_count": 53,
   "id": "c25079a3-76ac-4f75-8601-cf8baa4c8b67",
   "metadata": {},
   "outputs": [
    {
     "data": {
      "text/plain": [
       "True"
      ]
     },
     "execution_count": 53,
     "metadata": {},
     "output_type": "execute_result"
    }
   ],
   "source": [
    "53==106/2"
   ]
  },
  {
   "cell_type": "code",
   "execution_count": 55,
   "id": "3f0848e7-940a-48a7-a42a-17ad0c00c07f",
   "metadata": {},
   "outputs": [
    {
     "data": {
      "text/plain": [
       "False"
      ]
     },
     "execution_count": 55,
     "metadata": {},
     "output_type": "execute_result"
    }
   ],
   "source": [
    "53==104/2"
   ]
  },
  {
   "cell_type": "code",
   "execution_count": 57,
   "id": "3455eb20-e1bd-474d-b7fc-23af102d53c4",
   "metadata": {},
   "outputs": [
    {
     "data": {
      "text/plain": [
       "3.141592653589793"
      ]
     },
     "execution_count": 57,
     "metadata": {},
     "output_type": "execute_result"
    }
   ],
   "source": [
    "math.pi"
   ]
  },
  {
   "cell_type": "code",
   "execution_count": 59,
   "id": "7d9af5dc-18de-4eb9-8570-9ba7b8a6a1cb",
   "metadata": {},
   "outputs": [
    {
     "data": {
      "text/plain": [
       "1.7724538509055159"
      ]
     },
     "execution_count": 59,
     "metadata": {},
     "output_type": "execute_result"
    }
   ],
   "source": [
    "  math.sqrt(math.pi)       #formula for square root"
   ]
  },
  {
   "cell_type": "code",
   "execution_count": 63,
   "id": "c133917a-0bc5-4532-bc82-6e31e149067f",
   "metadata": {},
   "outputs": [
    {
     "data": {
      "text/plain": [
       "3.0"
      ]
     },
     "execution_count": 63,
     "metadata": {},
     "output_type": "execute_result"
    }
   ],
   "source": [
    "math.dist([3],[6])         #formula for distance"
   ]
  },
  {
   "cell_type": "code",
   "execution_count": 65,
   "id": "d703f414-2f0a-4a11-8fa6-ed3993100e70",
   "metadata": {},
   "outputs": [
    {
     "data": {
      "text/plain": [
       "3.0"
      ]
     },
     "execution_count": 65,
     "metadata": {},
     "output_type": "execute_result"
    }
   ],
   "source": [
    "math.dist([-3],[-6])  #arrangement dosen't matter, we can change sequence like we can write -6 first"
   ]
  },
  {
   "cell_type": "code",
   "execution_count": 67,
   "id": "68cae2d0-41dd-4744-81f6-840a4d8f7eca",
   "metadata": {},
   "outputs": [
    {
     "data": {
      "text/plain": [
       "4"
      ]
     },
     "execution_count": 67,
     "metadata": {},
     "output_type": "execute_result"
    }
   ],
   "source": [
    "math.ceil(3.14157)"
   ]
  },
  {
   "cell_type": "code",
   "execution_count": 1,
   "id": "e9bf0064-5763-4037-946e-25c93f9c3f49",
   "metadata": {},
   "outputs": [],
   "source": [
    "# 12th august labs\n",
    "#Class\n"
   ]
  },
  {
   "cell_type": "code",
   "execution_count": 1,
   "id": "647216f0-e217-46c9-ad88-3bda512f8506",
   "metadata": {},
   "outputs": [
    {
     "name": "stdout",
     "output_type": "stream",
     "text": [
      "Amount Deposited:  9000\n",
      "Total Balance:  10300\n",
      "Current Balance:  10300\n",
      "5000 is withdrawn\n",
      "Current Balance:  5300\n"
     ]
    }
   ],
   "source": [
    "class BankAccount:\n",
    ".    def __init__(self, owner, balance=0):\n",
    "        self.owner = owner\n",
    "        self.balance = balance\n",
    "\n",
    "    def deposit(self, amount):\n",
    "        print(\"Amount Deposited: \", amount)\n",
    "        self.balance += amount\n",
    "        print(\"Total Balance: \", self.balance)\n",
    "\n",
    "    def withdraw(self, amount):\n",
    "        if amount > self.balance:\n",
    "            print(\"Insufficient Balance\")\n",
    "        else:\n",
    "            self.balance = self.balance - amount\n",
    "            print(f\"{amount} is withdrawn\")\n",
    "\n",
    "    def get_balance(self):\n",
    "        return self.balance\n",
    "obj1 = BankAccount(\"ABC\", 1300)\n",
    "obj1.deposit(9000)\n",
    "print(\"Current Balance: \", obj1.get_balance())\n",
    "obj1.withdraw(5000)\n",
    "print(\"Current Balance: \", obj1.get_balance())\n"
   ]
  },
  {
   "cell_type": "code",
   "execution_count": null,
   "id": "519647bd-d28a-4f31-8288-981869035277",
   "metadata": {},
   "outputs": [],
   "source": [
    "\n",
    "# Python Class Example: Managing Employee Information with Methods for Full Name, Email, Salary, and Department\n"
   ]
  },
  {
   "cell_type": "code",
   "execution_count": 1,
   "id": "b0d692bc-a4bf-4041-bd5c-78d073464385",
   "metadata": {},
   "outputs": [
    {
     "name": "stdout",
     "output_type": "stream",
     "text": [
      "Full name: Waseem waso\n",
      "Email: Waseemwaso0786@gmail.com\n",
      "Salary: 30000\n",
      "Department:  Management\n"
     ]
    }
   ],
   "source": [
    "class employInformation():\n",
    "    def __init__(self,fname,sname,salary,department):\n",
    "        self.fname=fname\n",
    "        self.sname=sname\n",
    "        self.salary=salary\n",
    "        self.department=department\n",
    "    def fullName(self):\n",
    "        print(f'Full name: {self.fname+\" \"+self.sname}')\n",
    "    def email(self):\n",
    "        print(f'Email: {self.fname+self.sname+\"0786@gmail.com\"}')\n",
    "    def employ_department(self):\n",
    "        print(f'Department: {self.department}')\n",
    "    def employ_salary(self):\n",
    "        print(f'Salary:',self.salary)\n",
    "obj=employInformation('Waseem','waso',30000,' Management')\n",
    "obj.fullName()\n",
    "obj.email()\n",
    "obj.employ_salary()\n",
    "obj.employ_department()"
   ]
  },
  {
   "cell_type": "code",
   "execution_count": 4,
   "id": "85176e97-f7b7-4561-9180-c1017b7b2049",
   "metadata": {
    "jp-MarkdownHeadingCollapsed": true
   },
   "outputs": [
    {
     "data": {
      "text/plain": [
       "6"
      ]
     },
     "execution_count": 4,
     "metadata": {},
     "output_type": "execute_result"
    }
   ],
   "source": [
    "list = [1 , 4 ,5]\n",
    "list2 = [2 , 5 ,6]\n",
    "list4 = list[2] + list[0]\n",
    "list4"
   ]
  },
  {
   "cell_type": "code",
   "execution_count": 20,
   "id": "ab55b5a7-ffa0-421a-a16a-9ebe7158428d",
   "metadata": {},
   "outputs": [
    {
     "data": {
      "text/plain": [
       "(6,)"
      ]
     },
     "execution_count": 20,
     "metadata": {},
     "output_type": "execute_result"
    }
   ],
   "source": [
    "import numpy as np\n",
    "list = np.array([2 , 5 ,6 ,66 , 65 , 76])\n",
    "index = np.array([2 , 3])\n",
    "list_4 = np.arange(8)\n",
    "list_5= np.shape(list)\n",
    "list[index]\n",
    "list_5"
   ]
  },
  {
   "cell_type": "code",
   "execution_count": 20,
   "id": "b4cefca8-1201-4690-b770-67a1a3f818e3",
   "metadata": {},
   "outputs": [
    {
     "data": {
      "text/plain": [
       "(6,)"
      ]
     },
     "execution_count": 20,
     "metadata": {},
     "output_type": "execute_result"
    }
   ],
   "source": [
    "import numpy as np\n",
    "list = np.array([2 , 5 ,6 ,66 , 65 , 76])\n",
    "index = np.array([2 , 3])\n",
    "list_4 = np.arange(8)\n",
    "list_5= np.shape(list)\n",
    "list[index]\n",
    "list_5"
   ]
  },
  {
   "cell_type": "code",
   "execution_count": 20,
   "id": "d1d9a474-07c2-444f-b0b3-e348a4fddaf5",
   "metadata": {},
   "outputs": [
    {
     "data": {
      "text/plain": [
       "(6,)"
      ]
     },
     "execution_count": 20,
     "metadata": {},
     "output_type": "execute_result"
    }
   ],
   "source": [
    "import numpy as np\n",
    "list = np.array([2 , 5 ,6 ,66 , 65 , 76])\n",
    "index = np.array([2 , 3])\n",
    "list_4 = np.arange(8)\n",
    "list_5= np.shape(list)\n",
    "list[index]\n",
    "list_5"
   ]
  },
  {
   "cell_type": "code",
   "execution_count": 17,
   "id": "4419f98e-8fb1-4305-8a75-be8b603c9303",
   "metadata": {},
   "outputs": [
    {
     "name": "stdout",
     "output_type": "stream",
     "text": [
      "[[[[1. 1. 1. 1.]\n",
      "   [1. 1. 1. 1.]\n",
      "   [1. 1. 1. 1.]]\n",
      "\n",
      "  [[1. 1. 1. 1.]\n",
      "   [1. 1. 1. 1.]\n",
      "   [1. 1. 1. 1.]]\n",
      "\n",
      "  [[1. 1. 1. 1.]\n",
      "   [1. 1. 1. 1.]\n",
      "   [1. 1. 1. 1.]]]\n",
      "\n",
      "\n",
      " [[[1. 1. 1. 1.]\n",
      "   [1. 1. 1. 1.]\n",
      "   [1. 1. 1. 1.]]\n",
      "\n",
      "  [[1. 1. 1. 1.]\n",
      "   [1. 1. 1. 1.]\n",
      "   [1. 1. 1. 1.]]\n",
      "\n",
      "  [[1. 1. 1. 1.]\n",
      "   [1. 1. 1. 1.]\n",
      "   [1. 1. 1. 1.]]]]\n"
     ]
    }
   ],
   "source": [
    "import numpy as np\n",
    "\n",
    "# Create a 3x3 matrix with all elements as 1\n",
    "d = np.ones((2 , 3 ,3, 4))\n",
    "print(d)\n"
   ]
  },
  {
   "cell_type": "code",
   "execution_count": 21,
   "id": "76016f0c-2329-432b-bf51-882de97c8d90",
   "metadata": {},
   "outputs": [
    {
     "data": {
      "text/plain": [
       "4"
      ]
     },
     "execution_count": 21,
     "metadata": {},
     "output_type": "execute_result"
    }
   ],
   "source": [
    "import numpy as np\n",
    "\n",
    "# Create a 3x3 matrix with all elements as 1\n",
    "d = np.ones((2 , 3 ,3, 4))\n",
    "d.ndim\n",
    "\n"
   ]
  },
  {
   "cell_type": "code",
   "execution_count": 23,
   "id": "f24e819d-deaf-4c4c-be48-f0b4a76e3a8f",
   "metadata": {},
   "outputs": [
    {
     "data": {
      "text/plain": [
       "72"
      ]
     },
     "execution_count": 23,
     "metadata": {},
     "output_type": "execute_result"
    }
   ],
   "source": [
    "import numpy as np\n",
    "\n",
    "# Create a 3x3 matrix with all elements as 1\n",
    "d = np.ones((2 , 3 ,3, 4))\n",
    "d.size\n"
   ]
  },
  {
   "cell_type": "code",
   "execution_count": 25,
   "id": "689311ee-ff07-47fd-ba78-d16affa812f6",
   "metadata": {},
   "outputs": [
    {
     "data": {
      "text/plain": [
       "3"
      ]
     },
     "execution_count": 25,
     "metadata": {},
     "output_type": "execute_result"
    }
   ],
   "source": [
    "import numpy as np\n",
    "\n",
    "# Create a 3x3 matrix with all elements as 1\n",
    "d = np.ones((2 , 3 ,3))\n",
    "d.ndim\n"
   ]
  },
  {
   "cell_type": "code",
   "execution_count": 27,
   "id": "60c18072-5a04-4f8f-9879-e465a9ed3ac5",
   "metadata": {},
   "outputs": [
    {
     "name": "stdout",
     "output_type": "stream",
     "text": [
      "[[[[0. 0. 0. 0.]\n",
      "   [0. 0. 0. 0.]\n",
      "   [0. 0. 0. 0.]]\n",
      "\n",
      "  [[0. 0. 0. 0.]\n",
      "   [0. 0. 0. 0.]\n",
      "   [0. 0. 0. 0.]]\n",
      "\n",
      "  [[0. 0. 0. 0.]\n",
      "   [0. 0. 0. 0.]\n",
      "   [0. 0. 0. 0.]]]\n",
      "\n",
      "\n",
      " [[[0. 0. 0. 0.]\n",
      "   [0. 0. 0. 0.]\n",
      "   [0. 0. 0. 0.]]\n",
      "\n",
      "  [[0. 0. 0. 0.]\n",
      "   [0. 0. 0. 0.]\n",
      "   [0. 0. 0. 0.]]\n",
      "\n",
      "  [[0. 0. 0. 0.]\n",
      "   [0. 0. 0. 0.]\n",
      "   [0. 0. 0. 0.]]]]\n"
     ]
    }
   ],
   "source": [
    "import numpy as np\n",
    "\n",
    "# Create a 3x3 matrix with all elements as 1\n",
    "d = np.zeros((2 , 3 ,3, 4))\n",
    "print(d) \n"
   ]
  },
  {
   "cell_type": "code",
   "execution_count": 29,
   "id": "381117a2-c298-4993-84cf-2e97f64cf49a",
   "metadata": {},
   "outputs": [
    {
     "data": {
      "text/plain": [
       "72"
      ]
     },
     "execution_count": 29,
     "metadata": {},
     "output_type": "execute_result"
    }
   ],
   "source": [
    "import numpy as np\n",
    "\n",
    "# Create a 3x3 matrix with all elements as 1\n",
    "d = np.zeros((2 , 3 ,3, 4))\n",
    "d.size\n"
   ]
  },
  {
   "cell_type": "code",
   "execution_count": 31,
   "id": "9780adb2-1af6-4ddb-87be-fcbb51b8eac9",
   "metadata": {},
   "outputs": [
    {
     "data": {
      "text/plain": [
       "4"
      ]
     },
     "execution_count": 31,
     "metadata": {},
     "output_type": "execute_result"
    }
   ],
   "source": [
    "import numpy as np\n",
    "\n",
    "# Create a 3x3 matrix with all elements as 1\n",
    "d = np.zeros((2 , 3 ,3, 4))\n",
    "d.ndim\n"
   ]
  },
  {
   "cell_type": "code",
   "execution_count": 1,
   "id": "97aac6a7-3de4-4509-917d-2d6e7be62ccb",
   "metadata": {},
   "outputs": [
    {
     "data": {
      "text/plain": [
       "array([[[[0., 0., 0., 0.],\n",
       "         [0., 0., 0., 0.],\n",
       "         [0., 0., 0., 0.]],\n",
       "\n",
       "        [[0., 0., 0., 0.],\n",
       "         [0., 0., 0., 0.],\n",
       "         [0., 0., 0., 0.]],\n",
       "\n",
       "        [[0., 0., 0., 0.],\n",
       "         [0., 0., 0., 0.],\n",
       "         [0., 0., 0., 0.]]],\n",
       "\n",
       "\n",
       "       [[[0., 0., 0., 0.],\n",
       "         [0., 0., 0., 0.],\n",
       "         [0., 0., 0., 0.]],\n",
       "\n",
       "        [[0., 0., 0., 0.],\n",
       "         [0., 0., 0., 0.],\n",
       "         [0., 0., 0., 0.]],\n",
       "\n",
       "        [[0., 0., 0., 0.],\n",
       "         [0., 0., 0., 0.],\n",
       "         [0., 0., 0., 0.]]]])"
      ]
     },
     "execution_count": 1,
     "metadata": {},
     "output_type": "execute_result"
    }
   ],
   "source": [
    "import numpy as np\n",
    "\n",
    "# Create a 3x3 matrix with all elements as 1\n",
    "d = np.zeros((2 , 3 ,3, 4))\n",
    "d.ndim\n",
    "d\n"
   ]
  },
  {
   "cell_type": "code",
   "execution_count": 35,
   "id": "6ce40580-02d8-4449-9af2-5d92139df04a",
   "metadata": {},
   "outputs": [
    {
     "name": "stdout",
     "output_type": "stream",
     "text": [
      "[[[0. 0. 0. ... 0. 0. 0.]\n",
      "  [0. 0. 0. ... 0. 0. 0.]\n",
      "  [0. 0. 0. ... 0. 0. 0.]\n",
      "  ...\n",
      "  [0. 0. 0. ... 0. 0. 0.]\n",
      "  [0. 0. 0. ... 0. 0. 0.]\n",
      "  [0. 0. 0. ... 0. 0. 0.]]\n",
      "\n",
      " [[0. 0. 0. ... 0. 0. 0.]\n",
      "  [0. 0. 0. ... 0. 0. 0.]\n",
      "  [0. 0. 0. ... 0. 0. 0.]\n",
      "  ...\n",
      "  [0. 0. 0. ... 0. 0. 0.]\n",
      "  [0. 0. 0. ... 0. 0. 0.]\n",
      "  [0. 0. 0. ... 0. 0. 0.]]\n",
      "\n",
      " [[0. 0. 0. ... 0. 0. 0.]\n",
      "  [0. 0. 0. ... 0. 0. 0.]\n",
      "  [0. 0. 0. ... 0. 0. 0.]\n",
      "  ...\n",
      "  [0. 0. 0. ... 0. 0. 0.]\n",
      "  [0. 0. 0. ... 0. 0. 0.]\n",
      "  [0. 0. 0. ... 0. 0. 0.]]\n",
      "\n",
      " ...\n",
      "\n",
      " [[0. 0. 0. ... 0. 0. 0.]\n",
      "  [0. 0. 0. ... 0. 0. 0.]\n",
      "  [0. 0. 0. ... 0. 0. 0.]\n",
      "  ...\n",
      "  [0. 0. 0. ... 0. 0. 0.]\n",
      "  [0. 0. 0. ... 0. 0. 0.]\n",
      "  [0. 0. 0. ... 0. 0. 0.]]\n",
      "\n",
      " [[0. 0. 0. ... 0. 0. 0.]\n",
      "  [0. 0. 0. ... 0. 0. 0.]\n",
      "  [0. 0. 0. ... 0. 0. 0.]\n",
      "  ...\n",
      "  [0. 0. 0. ... 0. 0. 0.]\n",
      "  [0. 0. 0. ... 0. 0. 0.]\n",
      "  [0. 0. 0. ... 0. 0. 0.]]\n",
      "\n",
      " [[0. 0. 0. ... 0. 0. 0.]\n",
      "  [0. 0. 0. ... 0. 0. 0.]\n",
      "  [0. 0. 0. ... 0. 0. 0.]\n",
      "  ...\n",
      "  [0. 0. 0. ... 0. 0. 0.]\n",
      "  [0. 0. 0. ... 0. 0. 0.]\n",
      "  [0. 0. 0. ... 0. 0. 0.]]]\n"
     ]
    }
   ],
   "source": [
    "import numpy as np\n",
    "\n",
    "# Create a 3x3 matrix with all elements as 1\n",
    "d = np.zeros((10,50,10))\n",
    "print(d)\n"
   ]
  },
  {
   "cell_type": "code",
   "execution_count": 2,
   "id": "f72c3714-0a3f-4dc3-838d-6fa7168102ab",
   "metadata": {},
   "outputs": [
    {
     "name": "stdin",
     "output_type": "stream",
     "text": [
      "Enter a number:  12\n"
     ]
    },
    {
     "name": "stdout",
     "output_type": "stream",
     "text": [
      "12   <class 'int'>\n"
     ]
    },
    {
     "name": "stdin",
     "output_type": "stream",
     "text": [
      "Enter a decimal number:  12\n"
     ]
    },
    {
     "name": "stdout",
     "output_type": "stream",
     "text": [
      "12.0   <class 'float'>\n"
     ]
    },
    {
     "name": "stdin",
     "output_type": "stream",
     "text": [
      "enter a number: 12\n",
      "enter a  second number: 12\n"
     ]
    },
    {
     "name": "stdout",
     "output_type": "stream",
     "text": [
      "the sum of two number: 24\n"
     ]
    },
    {
     "name": "stdin",
     "output_type": "stream",
     "text": [
      "enter a number: 12\n",
      "enter a  second number: 45\n"
     ]
    },
    {
     "name": "stdout",
     "output_type": "stream",
     "text": [
      "the product of two number: 540\n"
     ]
    },
    {
     "name": "stdin",
     "output_type": "stream",
     "text": [
      "enter a number: 98\n",
      "enter a  second number: 45\n"
     ]
    },
    {
     "name": "stdout",
     "output_type": "stream",
     "text": [
      "the  quentient of two number: 2\n"
     ]
    },
    {
     "name": "stdin",
     "output_type": "stream",
     "text": [
      "enter a number: 34\n",
      "enter a  second number: 34\n"
     ]
    },
    {
     "name": "stdout",
     "output_type": "stream",
     "text": [
      "the difference two number: 0\n"
     ]
    },
    {
     "name": "stdin",
     "output_type": "stream",
     "text": [
      "enter a number: 67\n",
      "enter a  second number: 46\n"
     ]
    },
    {
     "name": "stdout",
     "output_type": "stream",
     "text": [
      "the  modulus of two number: 21\n"
     ]
    }
   ],
   "source": [
    "             ##Taking Input in Python\n",
    "#DECIMAL NUMBER\n",
    "\n",
    "num = int(input(\"Enter a number: \"))\n",
    "print(num, \" \", type(num))\n",
    "floatNum = float(input(\"Enter a decimal number: \"))\n",
    "print(floatNum, \" \", type(floatNum))\n",
    "\n",
    "#SUM OF TWO NUMBER \n",
    "\n",
    "num1 =int(input(\"enter a number:\"))\n",
    "num2 =int(input(\"enter a  second number:\"))\n",
    "a=num1+num2\n",
    "print(\"the sum of two number:\",a)\n",
    "\n",
    "# PRODUCT OD TWO NUMBER\n",
    "\n",
    "num1 =int(input(\"enter a number:\"))\n",
    "num2 =int(input(\"enter a  second number:\"))\n",
    "a=num1*num2\n",
    "print(\"the product of two number:\",a)\n",
    "\n",
    "## QUENTIENT OF TWO NUMBWER\n",
    "\n",
    "num1 =int(input(\"enter a number:\"))\n",
    "num2 =int(input(\"enter a  second number:\"))\n",
    "a=num1//num2\n",
    "print(\"the  quentient of two number:\",a)\n",
    "\n",
    "##DIFFERENCE OF TWO NUMBER\n",
    "\n",
    "num1 =int(input(\"enter a number:\"))\n",
    "num2 =int(input(\"enter a  second number:\"))\n",
    "a=num1-num2\n",
    "print(\"the difference two number:\",a)\n",
    "\n",
    "## MODULUS OF TWO NUMBER\n",
    "\n",
    "num1 =int(input(\"enter a number:\"))\n",
    "num2 =int(input(\"enter a  second number:\"))\n",
    "a=num1%num2\n",
    "print(\"the  modulus of two number:\",a)\n",
    "\n"
   ]
  },
  {
   "cell_type": "code",
   "execution_count": 3,
   "id": "e3c6d022-520d-4aaa-8a0f-a290df2fee2a",
   "metadata": {},
   "outputs": [
    {
     "name": "stdin",
     "output_type": "stream",
     "text": [
      "enter a number 9\n"
     ]
    },
    {
     "name": "stdout",
     "output_type": "stream",
     "text": [
      "the diameter is: 18\n",
      "the circumference is; 56.54862\n",
      "the area is: 254.46878999999998\n"
     ]
    }
   ],
   "source": [
    "##●\tWrite a program that asks the user to enter two numbers, obtains the two numbers from the user and prints the sum, product, difference, quotient and remainder of the two numbers. Sample output is as following:\n",
    "\n",
    "radius = int(input(\"enter a number\"))\n",
    "print(\"the diameter is:\",2*radius)\n",
    "print(\"the circumference is;\",2*3.14159*radius)\n",
    "print(\"the area is:\",3.14159*radius**2)\n"
   ]
  },
  {
   "cell_type": "code",
   "execution_count": 4,
   "id": "f5f818ae-5e2e-456a-b189-b1e29a0316bb",
   "metadata": {},
   "outputs": [
    {
     "name": "stdout",
     "output_type": "stream",
     "text": [
      "HHHHHH\n",
      "HHHHH\n",
      "HHH\n",
      "HH\n",
      "H\n"
     ]
    }
   ],
   "source": [
    "#●\tWrite a program that produces the following output using variables instead of hardcoding:\n",
    "#HHHHHH\n",
    "   #HHHHH\n",
    "        # HHH\n",
    "           # HH\n",
    "               #H\n",
    "\n",
    "print('HHHHHH')\n",
    "print('HHHHH')\n",
    "print('HHH')\n",
    "print('HH')\n",
    "print('H')"
   ]
  },
  {
   "cell_type": "code",
   "execution_count": 5,
   "id": "3db306ce-f021-4e5a-bd87-3abf5c156004",
   "metadata": {},
   "outputs": [
    {
     "name": "stdin",
     "output_type": "stream",
     "text": [
      "enter number:  45\n"
     ]
    },
    {
     "name": "stdout",
     "output_type": "stream",
     "text": [
      "45 is an odd number.\n"
     ]
    }
   ],
   "source": [
    "#Write a program that reads an integer and determines and prints whether it is odd or even.\n",
    "number = int(input(\"enter number: \"))\n",
    "if number%2:\n",
    "     print(number,\"is an odd number.\")\n",
    "            \n",
    "else:\n",
    "    print(number,\"is an even number.\")\n",
    "  \n",
    "            "
   ]
  },
  {
   "cell_type": "code",
   "execution_count": 6,
   "id": "4fe939c9-9db6-46e3-aaeb-e76a866e1aed",
   "metadata": {},
   "outputs": [
    {
     "name": "stdin",
     "output_type": "stream",
     "text": [
      "enter number:  22\n"
     ]
    },
    {
     "name": "stdout",
     "output_type": "stream",
     "text": [
      "22 is an even number.\n"
     ]
    }
   ],
   "source": [
    "#Write a program that reads an integer and determines and prints whether it is odd or even.\n",
    "number = int(input(\"enter number: \"))\n",
    "if number%2:\n",
    "     print(number,\"is an odd number.\")\n",
    "            \n",
    "else:\n",
    "    print(number,\"is an even number.\")\n",
    "  \n",
    "            "
   ]
  },
  {
   "cell_type": "code",
   "execution_count": 7,
   "id": "445c14ae-eb41-40c1-acba-db51fdbc9be4",
   "metadata": {},
   "outputs": [
    {
     "name": "stdout",
     "output_type": "stream",
     "text": [
      "7---14---21---28---35\n"
     ]
    }
   ],
   "source": [
    "##●\tCreate a variable x that stores an integer. Print out x, 2x, 3x, 4x, and 5x, each separated by three dashes, like below if x=7. (hint: use multiplication operator and print function)\n",
    "                                        ##7---14---21---28---35\t\n",
    "x=7\n",
    "print(f\"{x}---{2*x}---{3*x}---{4*x}---{5*x}\")\n"
   ]
  },
  {
   "cell_type": "code",
   "execution_count": 8,
   "id": "e1a55261-9ab2-491d-9476-43c418ab84f4",
   "metadata": {},
   "outputs": [
    {
     "name": "stdout",
     "output_type": "stream",
     "text": [
      "78.80000000000001\n",
      "32.0\n",
      "40\n"
     ]
    }
   ],
   "source": [
    "degree_celsius=26.0\n",
    "f= 9/5*degree_celsius+32\n",
    "print(f)\n",
    "\n",
    "degree_celsius=0.0\n",
    "f=9/5*degree_celsius+32\n",
    "print(f)\n",
    "\n",
    "difference =20\n",
    "double=2*difference\n",
    "print(double)"
   ]
  },
  {
   "cell_type": "code",
   "execution_count": 9,
   "id": "c1d8bb47-55fa-48fc-b524-02b4c691186b",
   "metadata": {},
   "outputs": [
    {
     "name": "stdout",
     "output_type": "stream",
     "text": [
      "110.0\n"
     ]
    }
   ],
   "source": [
    "     ## VARIABLE\n",
    "# FIND AREA\n",
    "length=22.0\n",
    "width=5.0\n",
    "area=length*width\n",
    "print(area)\n"
   ]
  },
  {
   "cell_type": "code",
   "execution_count": 10,
   "id": "b423e895-1dd1-486c-8ef8-219b51f23aed",
   "metadata": {},
   "outputs": [
    {
     "name": "stdout",
     "output_type": "stream",
     "text": [
      "6\n",
      "20.0\n",
      "4.5\n",
      "-5\n",
      "1\n",
      "1.0\n",
      "1.0\n",
      "-1\n",
      "1\n",
      "-1.0\n",
      "19\n",
      "35\n"
     ]
    }
   ],
   "source": [
    "\n",
    "                ## ARITHMETIC OPERATION\n",
    "##●\tFor each of the following expressions, what value will the expression give? Verify your answers by typing the expressions into Python.##\n",
    "# for addition\n",
    "a =9\n",
    "b= 3\n",
    "c=a-b;\n",
    "print(c)\n",
    "#for multiplaction\n",
    "a=8\n",
    "b=2.5\n",
    "c=a*b;\n",
    "print(c)\n",
    "#for integer division\n",
    "a=9\n",
    "b=2\n",
    "c=a/b;\n",
    "print(c)\n",
    "\n",
    "a=9\n",
    "b=-2\n",
    "c=a//b\n",
    "print(c)\n",
    "#for modulus\n",
    "a=9\n",
    "b=2\n",
    "c=a%b;\n",
    "print(c)\n",
    "#\n",
    "a=9.0\n",
    "b=2\n",
    "c=a%b\n",
    "print(c)\n",
    "a=9\n",
    "b=2.0\n",
    "c=a%b\n",
    "print(c)\n",
    "a=9\n",
    "b=-2\n",
    "c=a%b\n",
    "print(c)\n",
    "a=-9\n",
    "b=2\n",
    "c=a%b\n",
    "print(c)\n",
    "a=9\n",
    "b=-2.0\n",
    "c=a%b\n",
    "print(c)\n",
    "a=4\n",
    "b=3\n",
    "c=5\n",
    "d=a+b*c\n",
    "print(d)\n",
    "a=4\n",
    "b=3\n",
    "c=5\n",
    "d=(a+b)*c\n",
    "print(d)"
   ]
  },
  {
   "cell_type": "code",
   "execution_count": 12,
   "id": "f925ac4c-a1dc-4598-a412-4b5967b374ac",
   "metadata": {},
   "outputs": [
    {
     "name": "stdout",
     "output_type": "stream",
     "text": [
      "hello world\n"
     ]
    }
   ],
   "source": [
    "#1.\tWrite a program in jupyter notebook, that prints on screen the message Hello, World.\n",
    "print(\"hello world\")"
   ]
  },
  {
   "cell_type": "code",
   "execution_count": 16,
   "id": "d9d24a71-0836-49f8-8767-5e1014396267",
   "metadata": {},
   "outputs": [
    {
     "ename": "SyntaxError",
     "evalue": "unterminated string literal (detected at line 2) (207287347.py, line 2)",
     "output_type": "error",
     "traceback": [
      "\u001b[1;36m  Cell \u001b[1;32mIn[16], line 2\u001b[1;36m\u001b[0m\n\u001b[1;33m    print(\"hello world)\u001b[0m\n\u001b[1;37m          ^\u001b[0m\n\u001b[1;31mSyntaxError\u001b[0m\u001b[1;31m:\u001b[0m unterminated string literal (detected at line 2)\n"
     ]
    }
   ],
   "source": [
    "#    Using the program in (1), what happens if we remove the closing quotation around the text Hello, World?\n",
    "print(\"hello world)"
   ]
  },
  {
   "cell_type": "code",
   "execution_count": 17,
   "id": "0e2840bf-ade9-41c5-bb18-2e7c578810c0",
   "metadata": {},
   "outputs": [
    {
     "ename": "SyntaxError",
     "evalue": "invalid syntax. Perhaps you forgot a comma? (1985553770.py, line 2)",
     "output_type": "error",
     "traceback": [
      "\u001b[1;36m  Cell \u001b[1;32mIn[17], line 2\u001b[1;36m\u001b[0m\n\u001b[1;33m    print(hell world)\u001b[0m\n\u001b[1;37m          ^\u001b[0m\n\u001b[1;31mSyntaxError\u001b[0m\u001b[1;31m:\u001b[0m invalid syntax. Perhaps you forgot a comma?\n"
     ]
    }
   ],
   "source": [
    "#$\tUsing the program in (1), what happens if we remove both the quotations around the text Hello, World? How is it different from the behavior in (2)\n",
    "print(hell world)"
   ]
  },
  {
   "cell_type": "code",
   "execution_count": 18,
   "id": "68ec950f-5a34-4b06-8a8a-f42d32a2a7ed",
   "metadata": {},
   "outputs": [
    {
     "name": "stdout",
     "output_type": "stream",
     "text": [
      "*\n",
      "**\n",
      "*** \n",
      "**** \n",
      "***** \n"
     ]
    }
   ],
   "source": [
    "#4.\tWrite a program using the print() command  that produces the following output:\n",
    "print(\"*\")\n",
    "print(\"**\")\n",
    "print(\"*** \")\n",
    "print(\"**** \")\n",
    "print(\"***** \")"
   ]
  },
  {
   "cell_type": "code",
   "execution_count": 19,
   "id": "ab3990f5-4383-412d-a8d0-92b86d3a4a99",
   "metadata": {},
   "outputs": [],
   "source": [
    "def addition_1(num1,num2):\n",
    "    return num1+num2"
   ]
  },
  {
   "cell_type": "code",
   "execution_count": 20,
   "id": "901726b6-66df-4614-9521-db5b6d5a05bb",
   "metadata": {},
   "outputs": [
    {
     "data": {
      "text/plain": [
       "3"
      ]
     },
     "execution_count": 20,
     "metadata": {},
     "output_type": "execute_result"
    }
   ],
   "source": [
    "addition_1(1,2)"
   ]
  },
  {
   "cell_type": "code",
   "execution_count": 21,
   "id": "242b5af1-9e29-44ac-bccb-d43fff6aeaa0",
   "metadata": {},
   "outputs": [],
   "source": [
    "#defining classqand its structure\n",
    "class Account_1():\n",
    "    owner=\"abdul\"\n",
    "    balance=5000"
   ]
  },
  {
   "cell_type": "code",
   "execution_count": 22,
   "id": "a2f0c4a5-653b-4de3-ad34-adcf2fbcdb78",
   "metadata": {},
   "outputs": [],
   "source": [
    "#initilizing my Account\n",
    "my_acc= Account_1()"
   ]
  },
  {
   "cell_type": "code",
   "execution_count": 24,
   "id": "d850793d-36a3-4905-b1d8-45ebd1d429f4",
   "metadata": {},
   "outputs": [
    {
     "name": "stdout",
     "output_type": "stream",
     "text": [
      "abdul\n",
      "5000\n"
     ]
    }
   ],
   "source": [
    "print(my_acc.owner)\n",
    "print(my_acc.balance)"
   ]
  },
  {
   "cell_type": "code",
   "execution_count": 25,
   "id": "35f964be-2d9e-4c10-b805-70f99baea378",
   "metadata": {},
   "outputs": [
    {
     "name": "stdout",
     "output_type": "stream",
     "text": [
      "outer loop\n",
      "outer loop\n",
      "outer loop\n",
      "outer loop\n",
      "outer loop\n",
      "inner loop\n",
      "inner loop\n"
     ]
    }
   ],
   "source": [
    "#nested    for loop\n",
    "for i in range(0,5):\n",
    "    print(\"outer loop\")\n",
    "for j in range(0,2):\n",
    "    print(\"inner loop\")"
   ]
  },
  {
   "cell_type": "code",
   "execution_count": 26,
   "id": "e6fbfdaa-6ae0-4e7f-bc02-3e5386a072e6",
   "metadata": {},
   "outputs": [
    {
     "name": "stdout",
     "output_type": "stream",
     "text": [
      "5 is greater then 3\n",
      "2 is greater then 1\n"
     ]
    }
   ],
   "source": [
    "#if statment\n",
    "if 5>3:\n",
    "    print(\"5 is greater then 3\")\n",
    "    if 2>1:\n",
    "        print(\"2 is greater then 1\")"
   ]
  },
  {
   "cell_type": "code",
   "execution_count": 27,
   "id": "3ef77c91-a63e-4a1e-8827-52b2d3346631",
   "metadata": {},
   "outputs": [
    {
     "data": {
      "text/plain": [
       "['a', 'b', 'c']"
      ]
     },
     "execution_count": 27,
     "metadata": {},
     "output_type": "execute_result"
    }
   ],
   "source": [
    "#list in list  two diamensional array\n",
    "list_variable=[1,'a',3.14, \"True\"]\n",
    "list_variable=[1,['a','b','c'],'a',3.14,\"True\"]\n",
    "list_variable[1][:]"
   ]
  },
  {
   "cell_type": "code",
   "execution_count": 28,
   "id": "93b34a5b-7eb6-4bbd-a7d9-1dca9a9283e6",
   "metadata": {},
   "outputs": [
    {
     "data": {
      "text/plain": [
       "['b1', 'b2', 'b3']"
      ]
     },
     "execution_count": 28,
     "metadata": {},
     "output_type": "execute_result"
    }
   ],
   "source": [
    "   list_variable=[1,'a',3.14, \"True\"]\n",
    "list_variable=[1,['a','b','c'],'a',3.14,['b1','b2','b3']]\n",
    "list_variable[4][:]"
   ]
  },
  {
   "cell_type": "code",
   "execution_count": 29,
   "id": "f603ab84-ae56-4d72-8001-ab719ec16745",
   "metadata": {},
   "outputs": [
    {
     "data": {
      "text/plain": [
       "'b2'"
      ]
     },
     "execution_count": 29,
     "metadata": {},
     "output_type": "execute_result"
    }
   ],
   "source": [
    " list_variable=[1,'a',3.14, \"True\"]\n",
    "list_variable=[1,['a','b','c'],'a',3.14,['b1','b2','b3']]\n",
    "list_variable[4][-2] # negative index"
   ]
  },
  {
   "cell_type": "code",
   "execution_count": 30,
   "id": "f3f9a679-6135-45dc-967c-a0e8dbc5ed3c",
   "metadata": {},
   "outputs": [
    {
     "name": "stdout",
     "output_type": "stream",
     "text": [
      "phythn\n",
      "202\n",
      "pata nae\n",
      "400\n"
     ]
    }
   ],
   "source": [
    "class book:\n",
    "    name =\"phythn\"\n",
    "    price=202\n",
    "    author=\"pata nae\"\n",
    "    page=400\n",
    "bookone=book()\n",
    "print(bookone.name)\n",
    "print(bookone.price)\n",
    "print(bookone.author)\n",
    "print(bookone.page)"
   ]
  },
  {
   "cell_type": "code",
   "execution_count": 31,
   "id": "a9228028-b072-4e2b-a8b1-8e7eb18e251a",
   "metadata": {},
   "outputs": [],
   "source": [
    "class book:\n",
    "    def __init__(self, name):\n",
    "        self.name=name\n",
    "        p1=book(name=\"cherry\")\n",
    "        print(p1.name)"
   ]
  },
  {
   "cell_type": "code",
   "execution_count": 32,
   "id": "3316b1b0-e15b-4bce-b924-cabe7d1d9049",
   "metadata": {},
   "outputs": [
    {
     "name": "stdout",
     "output_type": "stream",
     "text": [
      "pythn\n",
      "202\n",
      "pata nae\n",
      "400\n"
     ]
    }
   ],
   "source": [
    "class book:\n",
    "    def __init__(self,name,price,author, page):\n",
    "        self.name=name\n",
    "        self.price=price\n",
    "        self.author=author\n",
    "        self.page=page\n",
    "book1=book(name=\"pythn\",price=202,author=\"pata nae\", page=400)\n",
    "print(book1.name)\n",
    "print(book1.price)\n",
    "print(book1.author)\n",
    "print(book1.page)\n",
    "    "
   ]
  },
  {
   "cell_type": "code",
   "execution_count": 33,
   "id": "35725b8a-d9ff-40ea-b410-28b948ac7078",
   "metadata": {},
   "outputs": [],
   "source": [
    "class account():\n",
    "    def __init__(self, owner, balance):\n",
    "        self.malik = owner\n",
    "        self.paisa = balance"
   ]
  },
  {
   "cell_type": "code",
   "execution_count": 34,
   "id": "ddfa4beb-5da4-4e6a-a8fd-71cd30714a36",
   "metadata": {},
   "outputs": [
    {
     "data": {
      "text/plain": [
       "' khan'"
      ]
     },
     "execution_count": 34,
     "metadata": {},
     "output_type": "execute_result"
    }
   ],
   "source": [
    "per_1 = account(owner =\" khan\", balance = 300)\n",
    "per_1.malik"
   ]
  },
  {
   "cell_type": "code",
   "execution_count": 35,
   "id": "dfd57e31-b79f-48c3-92f4-810baafa883d",
   "metadata": {},
   "outputs": [
    {
     "data": {
      "text/plain": [
       "400"
      ]
     },
     "execution_count": 35,
     "metadata": {},
     "output_type": "execute_result"
    }
   ],
   "source": [
    "per_2 = account(owner =\"ali \",balance = 400)\n",
    "per_2.paisa"
   ]
  },
  {
   "cell_type": "code",
   "execution_count": 36,
   "id": "26744268-0332-4de7-b591-6e32c012ab3a",
   "metadata": {},
   "outputs": [],
   "source": [
    "class Rectangle():\n",
    "    def __init__(self , len , wid):\n",
    "        self.length = len\n",
    "        self.width = wid\n",
    "    def area(self):\n",
    "        return self.length * self.width\n",
    "    def perimeter(self):\n",
    "        return (self.length + self.width)*2"
   ]
  },
  {
   "cell_type": "code",
   "execution_count": 38,
   "id": "3c402935-be35-437d-aeed-74c525216de5",
   "metadata": {},
   "outputs": [
    {
     "name": "stdout",
     "output_type": "stream",
     "text": [
      "7\n"
     ]
    }
   ],
   "source": [
    "a = [1,2,3]\n",
    "b = [4,5,6]\n",
    "c = a[0]+b[2]\n",
    "print(c)"
   ]
  },
  {
   "cell_type": "code",
   "execution_count": 39,
   "id": "6ab2e290-d62c-4392-9936-7503e101bc7d",
   "metadata": {},
   "outputs": [
    {
     "data": {
      "text/plain": [
       "array([ 6,  8, 10, 12])"
      ]
     },
     "execution_count": 39,
     "metadata": {},
     "output_type": "execute_result"
    }
   ],
   "source": [
    " import numpy as np\n",
    "list_1 = [3,4,5,6]\n",
    "arr_1 = np.array(list_1)\n",
    "arr_1*2\n"
   ]
  },
  {
   "cell_type": "code",
   "execution_count": null,
   "id": "71eca3f3-6734-4921-88b8-e798956a3833",
   "metadata": {},
   "outputs": [],
   "source": [
    "type(arr_1)"
   ]
  },
  {
   "cell_type": "code",
   "execution_count": 42,
   "id": "55552d32-d794-4693-9921-328cdd81d2b5",
   "metadata": {},
   "outputs": [
    {
     "ename": "NameError",
     "evalue": "name 'numpy' is not defined",
     "output_type": "error",
     "traceback": [
      "\u001b[1;31m---------------------------------------------------------------------------\u001b[0m",
      "\u001b[1;31mNameError\u001b[0m                                 Traceback (most recent call last)",
      "Cell \u001b[1;32mIn[42], line 2\u001b[0m\n\u001b[0;32m      1\u001b[0m \u001b[38;5;28;01mimport\u001b[39;00m \u001b[38;5;21;01mnumpy\u001b[39;00m \u001b[38;5;28;01mas\u001b[39;00m \u001b[38;5;21;01mnp\u001b[39;00m\n\u001b[1;32m----> 2\u001b[0m numpy\u001b[38;5;241m.\u001b[39mndarray\n",
      "\u001b[1;31mNameError\u001b[0m: name 'numpy' is not defined"
     ]
    }
   ],
   "source": [
    "import numpy as np\n",
    "numpy.ndarray"
   ]
  },
  {
   "cell_type": "code",
   "execution_count": null,
   "id": "83bc24d2-eea4-48cd-b4bf-c76aa3bdf285",
   "metadata": {},
   "outputs": [],
   "source": []
  },
  {
   "cell_type": "code",
   "execution_count": null,
   "id": "63d19f22-b8c3-4be8-8614-ee29417bb918",
   "metadata": {},
   "outputs": [],
   "source": []
  }
 ],
 "metadata": {
  "kernelspec": {
   "display_name": "Python 3 (ipykernel)",
   "language": "python",
   "name": "python3"
  },
  "language_info": {
   "codemirror_mode": {
    "name": "ipython",
    "version": 3
   },
   "file_extension": ".py",
   "mimetype": "text/x-python",
   "name": "python",
   "nbconvert_exporter": "python",
   "pygments_lexer": "ipython3",
   "version": "3.11.7"
  }
 },
 "nbformat": 4,
 "nbformat_minor": 5
}
